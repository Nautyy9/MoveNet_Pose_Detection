{
  "cells": [
    {
      "cell_type": "markdown",
      "metadata": {
        "id": "view-in-github",
        "colab_type": "text"
      },
      "source": [
        "<a href=\"https://colab.research.google.com/github/Nautyy9/MoveNet_Pose_Detection/blob/main/Movenet_PoseDetection.ipynb\" target=\"_parent\"><img src=\"https://colab.research.google.com/assets/colab-badge.svg\" alt=\"Open In Colab\"/></a>"
      ]
    },
    {
      "cell_type": "code",
      "execution_count": null,
      "metadata": {
        "id": "nHq_Edwtt494"
      },
      "outputs": [],
      "source": [
        "import cv2\n",
        "import tensorflow as tf\n",
        "import matplotlib.pyplot as plt\n",
        "import numpy as np"
      ]
    },
    {
      "cell_type": "code",
      "source": [
        "interpreter = tf.lite.Interpreter(\"/content/lite-model_movenet_singlepose_lightning_3.tflite\")\n",
        "interpreter.allocate_tensors()"
      ],
      "metadata": {
        "id": "rqq1kiP71Kc_"
      },
      "execution_count": null,
      "outputs": []
    },
    {
      "cell_type": "code",
      "source": [
        "input = interpreter.get_input_details()\n",
        "output = interpreter.get_output_details()"
      ],
      "metadata": {
        "id": "v7585ooj1UBL"
      },
      "execution_count": null,
      "outputs": []
    },
    {
      "cell_type": "code",
      "source": [
        "input,output"
      ],
      "metadata": {
        "colab": {
          "base_uri": "https://localhost:8080/"
        },
        "id": "QSV6QpP41f8Z",
        "outputId": "ad38ac35-cd48-4789-9b37-c7bd796aa0f5"
      },
      "execution_count": null,
      "outputs": [
        {
          "output_type": "execute_result",
          "data": {
            "text/plain": [
              "([{'name': 'serving_default_input:0',\n",
              "   'index': 0,\n",
              "   'shape': array([  1, 192, 192,   3], dtype=int32),\n",
              "   'shape_signature': array([  1, 192, 192,   3], dtype=int32),\n",
              "   'dtype': numpy.float32,\n",
              "   'quantization': (0.0, 0),\n",
              "   'quantization_parameters': {'scales': array([], dtype=float32),\n",
              "    'zero_points': array([], dtype=int32),\n",
              "    'quantized_dimension': 0},\n",
              "   'sparsity_parameters': {}}],\n",
              " [{'name': 'StatefulPartitionedCall:0',\n",
              "   'index': 312,\n",
              "   'shape': array([ 1,  1, 17,  3], dtype=int32),\n",
              "   'shape_signature': array([ 1,  1, 17,  3], dtype=int32),\n",
              "   'dtype': numpy.float32,\n",
              "   'quantization': (0.0, 0),\n",
              "   'quantization_parameters': {'scales': array([], dtype=float32),\n",
              "    'zero_points': array([], dtype=int32),\n",
              "    'quantized_dimension': 0},\n",
              "   'sparsity_parameters': {}}])"
            ]
          },
          "metadata": {},
          "execution_count": 14
        }
      ]
    },
    {
      "cell_type": "code",
      "source": [
        "cap = cv2.VideoCapture(0)\n",
        "while cap.isOpened():\n",
        "  ret, frame = cap.read()\n",
        "\n",
        "  cv2.imshow(\"Movenet Lightning\", frame)\n",
        "\n",
        "  if cv2.waitKey(10) & 0xFF==ord(\"q\"):\n",
        "    break\n",
        "\n",
        "cap.release()\n",
        "cv2.destroyAllWindows()"
      ],
      "metadata": {
        "id": "ip0g3I1t1k6V"
      },
      "execution_count": null,
      "outputs": []
    },
    {
      "cell_type": "code",
      "source": [],
      "metadata": {
        "id": "wlYHHtSi4Tki"
      },
      "execution_count": null,
      "outputs": []
    }
  ],
  "metadata": {
    "colab": {
      "provenance": [],
      "authorship_tag": "ABX9TyPvGItqWspMxDJqJiR3rwFA",
      "include_colab_link": true
    },
    "kernelspec": {
      "display_name": "Python 3",
      "name": "python3"
    },
    "language_info": {
      "name": "python"
    }
  },
  "nbformat": 4,
  "nbformat_minor": 0
}